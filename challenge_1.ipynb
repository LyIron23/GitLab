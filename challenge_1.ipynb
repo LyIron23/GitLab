{
  "cells": [
    {
      "cell_type": "markdown",
      "metadata": {
        "id": "view-in-github",
        "colab_type": "text"
      },
      "source": [
        "<a href=\"https://colab.research.google.com/github/LyIron23/GitLab/blob/main/challenge_1.ipynb\" target=\"_parent\"><img src=\"https://colab.research.google.com/assets/colab-badge.svg\" alt=\"Open In Colab\"/></a>"
      ]
    },
    {
      "cell_type": "markdown",
      "metadata": {
        "id": "6r0phyA8xiXq"
      },
      "source": [
        "# Challenge 1\n",
        "\n",
        "In this challenge you will be working on **Pokemon**. You will answer a series of questions in order to practice dataframe calculation, aggregation, and transformation.\n",
        "\n",
        "![Pokemon](../images/pokemon.jpg)\n",
        "\n",
        "Follow the instructions below and enter your code.\n",
        "\n",
        "#### Import all required libraries."
      ]
    },
    {
      "cell_type": "code",
      "source": [
        "from google.colab import drive\n",
        "drive.mount('/content/drive')"
      ],
      "metadata": {
        "colab": {
          "base_uri": "https://localhost:8080/"
        },
        "id": "m33ubybT0k2D",
        "outputId": "461d15bd-abc2-4f32-8eb7-541ae3c1af89"
      },
      "execution_count": null,
      "outputs": [
        {
          "output_type": "stream",
          "name": "stdout",
          "text": [
            "Mounted at /content/drive\n"
          ]
        }
      ]
    },
    {
      "cell_type": "code",
      "execution_count": null,
      "metadata": {
        "id": "QX7sSbgSxiXt"
      },
      "outputs": [],
      "source": [
        "# import libraries\n",
        "import pandas as pd\n",
        "import numpy as np"
      ]
    },
    {
      "cell_type": "markdown",
      "metadata": {
        "id": "O697QrP0xiXu"
      },
      "source": [
        "#### Import data set.\n",
        "\n",
        "Read the dataset `pokemon.csv` into a dataframe called `pokemon`.\n",
        "\n",
        "*Data set attributed to [Alberto Barradas](https://www.kaggle.com/abcsds/pokemon/)*"
      ]
    },
    {
      "cell_type": "code",
      "execution_count": null,
      "metadata": {
        "id": "DE-vPTH_xiXu"
      },
      "outputs": [],
      "source": [
        "# import dataset\n",
        "pokemon = pd.read_csv(\"/content/drive/MyDrive/Pokemon.csv\")"
      ]
    },
    {
      "cell_type": "markdown",
      "metadata": {
        "id": "QpiEuzbpxiXu"
      },
      "source": [
        "#### Print first 10 rows of `pokemon`."
      ]
    },
    {
      "cell_type": "code",
      "execution_count": null,
      "metadata": {
        "colab": {
          "base_uri": "https://localhost:8080/"
        },
        "id": "zkZhb5r-xiXu",
        "outputId": "c5b0de7e-484a-4e7b-f0ca-9ca8bd044920"
      },
      "outputs": [
        {
          "output_type": "stream",
          "name": "stdout",
          "text": [
            "   #                       Name Type 1  Type 2  Total  HP  Attack  Defense  \\\n",
            "0  1                  Bulbasaur  Grass  Poison    318  45      49       49   \n",
            "1  2                    Ivysaur  Grass  Poison    405  60      62       63   \n",
            "2  3                   Venusaur  Grass  Poison    525  80      82       83   \n",
            "3  3      VenusaurMega Venusaur  Grass  Poison    625  80     100      123   \n",
            "4  4                 Charmander   Fire     NaN    309  39      52       43   \n",
            "5  5                 Charmeleon   Fire     NaN    405  58      64       58   \n",
            "6  6                  Charizard   Fire  Flying    534  78      84       78   \n",
            "7  6  CharizardMega Charizard X   Fire  Dragon    634  78     130      111   \n",
            "8  6  CharizardMega Charizard Y   Fire  Flying    634  78     104       78   \n",
            "9  7                   Squirtle  Water     NaN    314  44      48       65   \n",
            "\n",
            "   Sp. Atk  Sp. Def  Speed  Generation  Legendary  \n",
            "0       65       65     45           1      False  \n",
            "1       80       80     60           1      False  \n",
            "2      100      100     80           1      False  \n",
            "3      122      120     80           1      False  \n",
            "4       60       50     65           1      False  \n",
            "5       80       65     80           1      False  \n",
            "6      109       85    100           1      False  \n",
            "7      130       85    100           1      False  \n",
            "8      159      115    100           1      False  \n",
            "9       50       64     43           1      False  \n"
          ]
        }
      ],
      "source": [
        "# your code here\n",
        "print(pokemon.head(10))"
      ]
    },
    {
      "cell_type": "markdown",
      "metadata": {
        "id": "IJEnxgqUxiXu"
      },
      "source": [
        "When you look at a data set, you often wonder what each column means. Some open-source data sets provide descriptions of the data set. In many cases, data descriptions are extremely useful for data analysts to perform work efficiently and successfully.\n",
        "\n",
        "For the `Pokemon.csv` data set, fortunately, the owner provided descriptions which you can see [here](https://www.kaggle.com/abcsds/pokemon/home). For your convenience, we are including the descriptions below. Read the descriptions and understand what each column means. This knowledge is helpful in your work with the data.\n",
        "\n",
        "| Column | Description |\n",
        "| --- | --- |\n",
        "| # | ID for each pokemon |\n",
        "| Name | Name of each pokemon |\n",
        "| Type 1 | Each pokemon has a type, this determines weakness/resistance to attacks |\n",
        "| Type 2 | Some pokemon are dual type and have 2 |\n",
        "| Total | A general guide to how strong a pokemon is |\n",
        "| HP | Hit points, or health, defines how much damage a pokemon can withstand before fainting |\n",
        "| Attack | The base modifier for normal attacks (eg. Scratch, Punch) |\n",
        "| Defense | The base damage resistance against normal attacks |\n",
        "| SP Atk | Special attack, the base modifier for special attacks (e.g. fire blast, bubble beam) |\n",
        "| SP Def | The base damage resistance against special attacks |\n",
        "| Speed | Determines which pokemon attacks first each round |\n",
        "| Generation | Number of generation |\n",
        "| Legendary | True if Legendary Pokemon False if not |"
      ]
    },
    {
      "cell_type": "markdown",
      "metadata": {
        "id": "QAgNnxPWxiXv"
      },
      "source": [
        "#### Obtain the distinct values across `Type 1` and `Type 2`.\n",
        "\n",
        "Exctract all the values in `Type 1` and `Type 2`. Then create an array containing the distinct values across both fields."
      ]
    },
    {
      "cell_type": "code",
      "execution_count": null,
      "metadata": {
        "colab": {
          "base_uri": "https://localhost:8080/"
        },
        "id": "Lj6Ni0K-xiXw",
        "outputId": "9da7354d-a758-4e0d-82bb-253a410cc8a1"
      },
      "outputs": [
        {
          "output_type": "stream",
          "name": "stdout",
          "text": [
            "['Fighting', 'Bug', 'Fire', 'Electric', 'Water', 'Steel', 'Rock', 'Grass', 'Dragon', 'Ghost', 'Dark', 'Normal', 'Ice', 'Fairy', 'Psychic', 'Flying', 'Ground', 'Poison']\n"
          ]
        }
      ],
      "source": [
        "# your code here\n",
        "# Extract unique values from Type 1 and Type 2 columns, while handling NaN values\n",
        "type1_values = set(pokemon['Type 1'].dropna().unique())\n",
        "type2_values = set(pokemon['Type 2'].dropna().unique())\n",
        "\n",
        "# Combine\n",
        "distinct_types = list(type1_values.union(type2_values))\n",
        "\n",
        "print(distinct_types)"
      ]
    },
    {
      "cell_type": "markdown",
      "metadata": {
        "id": "cJJcOnZfxiXx"
      },
      "source": [
        "#### Cleanup `Name` that contain \"Mega\".\n",
        "\n",
        "If you have checked out the pokemon names carefully enough, you should have found there are junk texts in the pokemon names which contain \"Mega\". We want to clean up the pokemon names. For instance, \"VenusaurMega Venusaur\" should be \"Mega Venusaur\", and \"CharizardMega Charizard X\" should be \"Mega Charizard X\"."
      ]
    },
    {
      "cell_type": "code",
      "execution_count": null,
      "metadata": {
        "colab": {
          "base_uri": "https://localhost:8080/",
          "height": 363
        },
        "id": "oW2bEO-mxiXx",
        "outputId": "f1ba2b28-8b01-449c-f637-632977d89961"
      },
      "outputs": [
        {
          "output_type": "execute_result",
          "data": {
            "text/plain": [
              "   #        Name Type 1  Type 2  Total  HP  Attack  Defense  Sp. Atk  Sp. Def  \\\n",
              "0  1   Bulbasaur  Grass  Poison    318  45      49       49       65       65   \n",
              "1  2     Ivysaur  Grass  Poison    405  60      62       63       80       80   \n",
              "2  3    Venusaur  Grass  Poison    525  80      82       83      100      100   \n",
              "3  3       Mega   Grass  Poison    625  80     100      123      122      120   \n",
              "4  4  Charmander   Fire     NaN    309  39      52       43       60       50   \n",
              "5  5  Charmeleon   Fire     NaN    405  58      64       58       80       65   \n",
              "6  6   Charizard   Fire  Flying    534  78      84       78      109       85   \n",
              "7  6     Mega  X   Fire  Dragon    634  78     130      111      130       85   \n",
              "8  6     Mega  Y   Fire  Flying    634  78     104       78      159      115   \n",
              "9  7    Squirtle  Water     NaN    314  44      48       65       50       64   \n",
              "\n",
              "   Speed  Generation  Legendary  \n",
              "0     45           1      False  \n",
              "1     60           1      False  \n",
              "2     80           1      False  \n",
              "3     80           1      False  \n",
              "4     65           1      False  \n",
              "5     80           1      False  \n",
              "6    100           1      False  \n",
              "7    100           1      False  \n",
              "8    100           1      False  \n",
              "9     43           1      False  "
            ],
            "text/html": [
              "\n",
              "  <div id=\"df-26681d06-61d1-498a-ad74-40b55cf0f46c\" class=\"colab-df-container\">\n",
              "    <div>\n",
              "<style scoped>\n",
              "    .dataframe tbody tr th:only-of-type {\n",
              "        vertical-align: middle;\n",
              "    }\n",
              "\n",
              "    .dataframe tbody tr th {\n",
              "        vertical-align: top;\n",
              "    }\n",
              "\n",
              "    .dataframe thead th {\n",
              "        text-align: right;\n",
              "    }\n",
              "</style>\n",
              "<table border=\"1\" class=\"dataframe\">\n",
              "  <thead>\n",
              "    <tr style=\"text-align: right;\">\n",
              "      <th></th>\n",
              "      <th>#</th>\n",
              "      <th>Name</th>\n",
              "      <th>Type 1</th>\n",
              "      <th>Type 2</th>\n",
              "      <th>Total</th>\n",
              "      <th>HP</th>\n",
              "      <th>Attack</th>\n",
              "      <th>Defense</th>\n",
              "      <th>Sp. Atk</th>\n",
              "      <th>Sp. Def</th>\n",
              "      <th>Speed</th>\n",
              "      <th>Generation</th>\n",
              "      <th>Legendary</th>\n",
              "    </tr>\n",
              "  </thead>\n",
              "  <tbody>\n",
              "    <tr>\n",
              "      <th>0</th>\n",
              "      <td>1</td>\n",
              "      <td>Bulbasaur</td>\n",
              "      <td>Grass</td>\n",
              "      <td>Poison</td>\n",
              "      <td>318</td>\n",
              "      <td>45</td>\n",
              "      <td>49</td>\n",
              "      <td>49</td>\n",
              "      <td>65</td>\n",
              "      <td>65</td>\n",
              "      <td>45</td>\n",
              "      <td>1</td>\n",
              "      <td>False</td>\n",
              "    </tr>\n",
              "    <tr>\n",
              "      <th>1</th>\n",
              "      <td>2</td>\n",
              "      <td>Ivysaur</td>\n",
              "      <td>Grass</td>\n",
              "      <td>Poison</td>\n",
              "      <td>405</td>\n",
              "      <td>60</td>\n",
              "      <td>62</td>\n",
              "      <td>63</td>\n",
              "      <td>80</td>\n",
              "      <td>80</td>\n",
              "      <td>60</td>\n",
              "      <td>1</td>\n",
              "      <td>False</td>\n",
              "    </tr>\n",
              "    <tr>\n",
              "      <th>2</th>\n",
              "      <td>3</td>\n",
              "      <td>Venusaur</td>\n",
              "      <td>Grass</td>\n",
              "      <td>Poison</td>\n",
              "      <td>525</td>\n",
              "      <td>80</td>\n",
              "      <td>82</td>\n",
              "      <td>83</td>\n",
              "      <td>100</td>\n",
              "      <td>100</td>\n",
              "      <td>80</td>\n",
              "      <td>1</td>\n",
              "      <td>False</td>\n",
              "    </tr>\n",
              "    <tr>\n",
              "      <th>3</th>\n",
              "      <td>3</td>\n",
              "      <td>Mega</td>\n",
              "      <td>Grass</td>\n",
              "      <td>Poison</td>\n",
              "      <td>625</td>\n",
              "      <td>80</td>\n",
              "      <td>100</td>\n",
              "      <td>123</td>\n",
              "      <td>122</td>\n",
              "      <td>120</td>\n",
              "      <td>80</td>\n",
              "      <td>1</td>\n",
              "      <td>False</td>\n",
              "    </tr>\n",
              "    <tr>\n",
              "      <th>4</th>\n",
              "      <td>4</td>\n",
              "      <td>Charmander</td>\n",
              "      <td>Fire</td>\n",
              "      <td>NaN</td>\n",
              "      <td>309</td>\n",
              "      <td>39</td>\n",
              "      <td>52</td>\n",
              "      <td>43</td>\n",
              "      <td>60</td>\n",
              "      <td>50</td>\n",
              "      <td>65</td>\n",
              "      <td>1</td>\n",
              "      <td>False</td>\n",
              "    </tr>\n",
              "    <tr>\n",
              "      <th>5</th>\n",
              "      <td>5</td>\n",
              "      <td>Charmeleon</td>\n",
              "      <td>Fire</td>\n",
              "      <td>NaN</td>\n",
              "      <td>405</td>\n",
              "      <td>58</td>\n",
              "      <td>64</td>\n",
              "      <td>58</td>\n",
              "      <td>80</td>\n",
              "      <td>65</td>\n",
              "      <td>80</td>\n",
              "      <td>1</td>\n",
              "      <td>False</td>\n",
              "    </tr>\n",
              "    <tr>\n",
              "      <th>6</th>\n",
              "      <td>6</td>\n",
              "      <td>Charizard</td>\n",
              "      <td>Fire</td>\n",
              "      <td>Flying</td>\n",
              "      <td>534</td>\n",
              "      <td>78</td>\n",
              "      <td>84</td>\n",
              "      <td>78</td>\n",
              "      <td>109</td>\n",
              "      <td>85</td>\n",
              "      <td>100</td>\n",
              "      <td>1</td>\n",
              "      <td>False</td>\n",
              "    </tr>\n",
              "    <tr>\n",
              "      <th>7</th>\n",
              "      <td>6</td>\n",
              "      <td>Mega  X</td>\n",
              "      <td>Fire</td>\n",
              "      <td>Dragon</td>\n",
              "      <td>634</td>\n",
              "      <td>78</td>\n",
              "      <td>130</td>\n",
              "      <td>111</td>\n",
              "      <td>130</td>\n",
              "      <td>85</td>\n",
              "      <td>100</td>\n",
              "      <td>1</td>\n",
              "      <td>False</td>\n",
              "    </tr>\n",
              "    <tr>\n",
              "      <th>8</th>\n",
              "      <td>6</td>\n",
              "      <td>Mega  Y</td>\n",
              "      <td>Fire</td>\n",
              "      <td>Flying</td>\n",
              "      <td>634</td>\n",
              "      <td>78</td>\n",
              "      <td>104</td>\n",
              "      <td>78</td>\n",
              "      <td>159</td>\n",
              "      <td>115</td>\n",
              "      <td>100</td>\n",
              "      <td>1</td>\n",
              "      <td>False</td>\n",
              "    </tr>\n",
              "    <tr>\n",
              "      <th>9</th>\n",
              "      <td>7</td>\n",
              "      <td>Squirtle</td>\n",
              "      <td>Water</td>\n",
              "      <td>NaN</td>\n",
              "      <td>314</td>\n",
              "      <td>44</td>\n",
              "      <td>48</td>\n",
              "      <td>65</td>\n",
              "      <td>50</td>\n",
              "      <td>64</td>\n",
              "      <td>43</td>\n",
              "      <td>1</td>\n",
              "      <td>False</td>\n",
              "    </tr>\n",
              "  </tbody>\n",
              "</table>\n",
              "</div>\n",
              "    <div class=\"colab-df-buttons\">\n",
              "\n",
              "  <div class=\"colab-df-container\">\n",
              "    <button class=\"colab-df-convert\" onclick=\"convertToInteractive('df-26681d06-61d1-498a-ad74-40b55cf0f46c')\"\n",
              "            title=\"Convert this dataframe to an interactive table.\"\n",
              "            style=\"display:none;\">\n",
              "\n",
              "  <svg xmlns=\"http://www.w3.org/2000/svg\" height=\"24px\" viewBox=\"0 -960 960 960\">\n",
              "    <path d=\"M120-120v-720h720v720H120Zm60-500h600v-160H180v160Zm220 220h160v-160H400v160Zm0 220h160v-160H400v160ZM180-400h160v-160H180v160Zm440 0h160v-160H620v160ZM180-180h160v-160H180v160Zm440 0h160v-160H620v160Z\"/>\n",
              "  </svg>\n",
              "    </button>\n",
              "\n",
              "  <style>\n",
              "    .colab-df-container {\n",
              "      display:flex;\n",
              "      gap: 12px;\n",
              "    }\n",
              "\n",
              "    .colab-df-convert {\n",
              "      background-color: #E8F0FE;\n",
              "      border: none;\n",
              "      border-radius: 50%;\n",
              "      cursor: pointer;\n",
              "      display: none;\n",
              "      fill: #1967D2;\n",
              "      height: 32px;\n",
              "      padding: 0 0 0 0;\n",
              "      width: 32px;\n",
              "    }\n",
              "\n",
              "    .colab-df-convert:hover {\n",
              "      background-color: #E2EBFA;\n",
              "      box-shadow: 0px 1px 2px rgba(60, 64, 67, 0.3), 0px 1px 3px 1px rgba(60, 64, 67, 0.15);\n",
              "      fill: #174EA6;\n",
              "    }\n",
              "\n",
              "    .colab-df-buttons div {\n",
              "      margin-bottom: 4px;\n",
              "    }\n",
              "\n",
              "    [theme=dark] .colab-df-convert {\n",
              "      background-color: #3B4455;\n",
              "      fill: #D2E3FC;\n",
              "    }\n",
              "\n",
              "    [theme=dark] .colab-df-convert:hover {\n",
              "      background-color: #434B5C;\n",
              "      box-shadow: 0px 1px 3px 1px rgba(0, 0, 0, 0.15);\n",
              "      filter: drop-shadow(0px 1px 2px rgba(0, 0, 0, 0.3));\n",
              "      fill: #FFFFFF;\n",
              "    }\n",
              "  </style>\n",
              "\n",
              "    <script>\n",
              "      const buttonEl =\n",
              "        document.querySelector('#df-26681d06-61d1-498a-ad74-40b55cf0f46c button.colab-df-convert');\n",
              "      buttonEl.style.display =\n",
              "        google.colab.kernel.accessAllowed ? 'block' : 'none';\n",
              "\n",
              "      async function convertToInteractive(key) {\n",
              "        const element = document.querySelector('#df-26681d06-61d1-498a-ad74-40b55cf0f46c');\n",
              "        const dataTable =\n",
              "          await google.colab.kernel.invokeFunction('convertToInteractive',\n",
              "                                                    [key], {});\n",
              "        if (!dataTable) return;\n",
              "\n",
              "        const docLinkHtml = 'Like what you see? Visit the ' +\n",
              "          '<a target=\"_blank\" href=https://colab.research.google.com/notebooks/data_table.ipynb>data table notebook</a>'\n",
              "          + ' to learn more about interactive tables.';\n",
              "        element.innerHTML = '';\n",
              "        dataTable['output_type'] = 'display_data';\n",
              "        await google.colab.output.renderOutput(dataTable, element);\n",
              "        const docLink = document.createElement('div');\n",
              "        docLink.innerHTML = docLinkHtml;\n",
              "        element.appendChild(docLink);\n",
              "      }\n",
              "    </script>\n",
              "  </div>\n",
              "\n",
              "\n",
              "<div id=\"df-4e183321-f367-442f-b6f1-476686ed8064\">\n",
              "  <button class=\"colab-df-quickchart\" onclick=\"quickchart('df-4e183321-f367-442f-b6f1-476686ed8064')\"\n",
              "            title=\"Suggest charts.\"\n",
              "            style=\"display:none;\">\n",
              "\n",
              "<svg xmlns=\"http://www.w3.org/2000/svg\" height=\"24px\"viewBox=\"0 0 24 24\"\n",
              "     width=\"24px\">\n",
              "    <g>\n",
              "        <path d=\"M19 3H5c-1.1 0-2 .9-2 2v14c0 1.1.9 2 2 2h14c1.1 0 2-.9 2-2V5c0-1.1-.9-2-2-2zM9 17H7v-7h2v7zm4 0h-2V7h2v10zm4 0h-2v-4h2v4z\"/>\n",
              "    </g>\n",
              "</svg>\n",
              "  </button>\n",
              "\n",
              "<style>\n",
              "  .colab-df-quickchart {\n",
              "      --bg-color: #E8F0FE;\n",
              "      --fill-color: #1967D2;\n",
              "      --hover-bg-color: #E2EBFA;\n",
              "      --hover-fill-color: #174EA6;\n",
              "      --disabled-fill-color: #AAA;\n",
              "      --disabled-bg-color: #DDD;\n",
              "  }\n",
              "\n",
              "  [theme=dark] .colab-df-quickchart {\n",
              "      --bg-color: #3B4455;\n",
              "      --fill-color: #D2E3FC;\n",
              "      --hover-bg-color: #434B5C;\n",
              "      --hover-fill-color: #FFFFFF;\n",
              "      --disabled-bg-color: #3B4455;\n",
              "      --disabled-fill-color: #666;\n",
              "  }\n",
              "\n",
              "  .colab-df-quickchart {\n",
              "    background-color: var(--bg-color);\n",
              "    border: none;\n",
              "    border-radius: 50%;\n",
              "    cursor: pointer;\n",
              "    display: none;\n",
              "    fill: var(--fill-color);\n",
              "    height: 32px;\n",
              "    padding: 0;\n",
              "    width: 32px;\n",
              "  }\n",
              "\n",
              "  .colab-df-quickchart:hover {\n",
              "    background-color: var(--hover-bg-color);\n",
              "    box-shadow: 0 1px 2px rgba(60, 64, 67, 0.3), 0 1px 3px 1px rgba(60, 64, 67, 0.15);\n",
              "    fill: var(--button-hover-fill-color);\n",
              "  }\n",
              "\n",
              "  .colab-df-quickchart-complete:disabled,\n",
              "  .colab-df-quickchart-complete:disabled:hover {\n",
              "    background-color: var(--disabled-bg-color);\n",
              "    fill: var(--disabled-fill-color);\n",
              "    box-shadow: none;\n",
              "  }\n",
              "\n",
              "  .colab-df-spinner {\n",
              "    border: 2px solid var(--fill-color);\n",
              "    border-color: transparent;\n",
              "    border-bottom-color: var(--fill-color);\n",
              "    animation:\n",
              "      spin 1s steps(1) infinite;\n",
              "  }\n",
              "\n",
              "  @keyframes spin {\n",
              "    0% {\n",
              "      border-color: transparent;\n",
              "      border-bottom-color: var(--fill-color);\n",
              "      border-left-color: var(--fill-color);\n",
              "    }\n",
              "    20% {\n",
              "      border-color: transparent;\n",
              "      border-left-color: var(--fill-color);\n",
              "      border-top-color: var(--fill-color);\n",
              "    }\n",
              "    30% {\n",
              "      border-color: transparent;\n",
              "      border-left-color: var(--fill-color);\n",
              "      border-top-color: var(--fill-color);\n",
              "      border-right-color: var(--fill-color);\n",
              "    }\n",
              "    40% {\n",
              "      border-color: transparent;\n",
              "      border-right-color: var(--fill-color);\n",
              "      border-top-color: var(--fill-color);\n",
              "    }\n",
              "    60% {\n",
              "      border-color: transparent;\n",
              "      border-right-color: var(--fill-color);\n",
              "    }\n",
              "    80% {\n",
              "      border-color: transparent;\n",
              "      border-right-color: var(--fill-color);\n",
              "      border-bottom-color: var(--fill-color);\n",
              "    }\n",
              "    90% {\n",
              "      border-color: transparent;\n",
              "      border-bottom-color: var(--fill-color);\n",
              "    }\n",
              "  }\n",
              "</style>\n",
              "\n",
              "  <script>\n",
              "    async function quickchart(key) {\n",
              "      const quickchartButtonEl =\n",
              "        document.querySelector('#' + key + ' button');\n",
              "      quickchartButtonEl.disabled = true;  // To prevent multiple clicks.\n",
              "      quickchartButtonEl.classList.add('colab-df-spinner');\n",
              "      try {\n",
              "        const charts = await google.colab.kernel.invokeFunction(\n",
              "            'suggestCharts', [key], {});\n",
              "      } catch (error) {\n",
              "        console.error('Error during call to suggestCharts:', error);\n",
              "      }\n",
              "      quickchartButtonEl.classList.remove('colab-df-spinner');\n",
              "      quickchartButtonEl.classList.add('colab-df-quickchart-complete');\n",
              "    }\n",
              "    (() => {\n",
              "      let quickchartButtonEl =\n",
              "        document.querySelector('#df-4e183321-f367-442f-b6f1-476686ed8064 button');\n",
              "      quickchartButtonEl.style.display =\n",
              "        google.colab.kernel.accessAllowed ? 'block' : 'none';\n",
              "    })();\n",
              "  </script>\n",
              "</div>\n",
              "    </div>\n",
              "  </div>\n"
            ]
          },
          "metadata": {},
          "execution_count": 18
        }
      ],
      "source": [
        "# your code here\n",
        "# Clean up\n",
        "pokemon['Name'] = pokemon['Name'].apply(lambda name: name.replace(name.split('Mega')[0], '') if 'Mega' in name else name)\n",
        "\n",
        "# test transformed data\n",
        "pokemon.head(10)"
      ]
    },
    {
      "cell_type": "markdown",
      "metadata": {
        "id": "k7no-fbjxiXy"
      },
      "source": [
        "#### Create a new column called `A/D Ratio` whose value equals to `Attack` devided by `Defense`.\n",
        "\n",
        "For instance, if a pokemon has the Attack score 49 and Defense score 49, the corresponding `A/D Ratio` is 49/49=1."
      ]
    },
    {
      "cell_type": "code",
      "execution_count": null,
      "metadata": {
        "colab": {
          "base_uri": "https://localhost:8080/"
        },
        "id": "YRq3gRlNxiXy",
        "outputId": "08b43a61-d66f-4c2b-a455-693bb2f7c780"
      },
      "outputs": [
        {
          "output_type": "stream",
          "name": "stdout",
          "text": [
            "   #        Name Type 1  Type 2  Total  HP  Attack  Defense  Sp. Atk  Sp. Def  \\\n",
            "0  1   Bulbasaur  Grass  Poison    318  45      49       49       65       65   \n",
            "1  2     Ivysaur  Grass  Poison    405  60      62       63       80       80   \n",
            "2  3    Venusaur  Grass  Poison    525  80      82       83      100      100   \n",
            "3  3       Mega   Grass  Poison    625  80     100      123      122      120   \n",
            "4  4  Charmander   Fire     NaN    309  39      52       43       60       50   \n",
            "5  5  Charmeleon   Fire     NaN    405  58      64       58       80       65   \n",
            "6  6   Charizard   Fire  Flying    534  78      84       78      109       85   \n",
            "7  6     Mega  X   Fire  Dragon    634  78     130      111      130       85   \n",
            "8  6     Mega  Y   Fire  Flying    634  78     104       78      159      115   \n",
            "9  7    Squirtle  Water     NaN    314  44      48       65       50       64   \n",
            "\n",
            "   Speed  Generation  Legendary  A/D Ratio  \n",
            "0     45           1      False   1.000000  \n",
            "1     60           1      False   0.984127  \n",
            "2     80           1      False   0.987952  \n",
            "3     80           1      False   0.813008  \n",
            "4     65           1      False   1.209302  \n",
            "5     80           1      False   1.103448  \n",
            "6    100           1      False   1.076923  \n",
            "7    100           1      False   1.171171  \n",
            "8    100           1      False   1.333333  \n",
            "9     43           1      False   0.738462  \n"
          ]
        }
      ],
      "source": [
        "# your code here\n",
        "# New column\n",
        "pokemon['A/D Ratio'] = pokemon['Attack'] / pokemon['Defense']\n",
        "\n",
        "print(pokemon.head(10))"
      ]
    },
    {
      "cell_type": "markdown",
      "metadata": {
        "id": "8KL4FrAQxiXy"
      },
      "source": [
        "#### Identify the pokemon with the highest `A/D Ratio`."
      ]
    },
    {
      "cell_type": "code",
      "execution_count": null,
      "metadata": {
        "colab": {
          "base_uri": "https://localhost:8080/"
        },
        "id": "Dc0jrwLAxiXz",
        "outputId": "a1d8d85f-e14e-4f99-a1ed-2ae291c01328"
      },
      "outputs": [
        {
          "output_type": "stream",
          "name": "stdout",
          "text": [
            "#                            386\n",
            "Name          DeoxysAttack Forme\n",
            "Type 1                   Psychic\n",
            "Type 2                       NaN\n",
            "Total                        600\n",
            "HP                            50\n",
            "Attack                       180\n",
            "Defense                       20\n",
            "Sp. Atk                      180\n",
            "Sp. Def                       20\n",
            "Speed                        150\n",
            "Generation                     3\n",
            "Legendary                   True\n",
            "A/D Ratio                    9.0\n",
            "Name: 429, dtype: object\n"
          ]
        }
      ],
      "source": [
        "# your code here\n",
        "pokemon_with_highest_ad_ratio = pokemon.loc[pokemon['A/D Ratio'].idxmax()]\n",
        "print(pokemon_with_highest_ad_ratio)"
      ]
    },
    {
      "cell_type": "markdown",
      "metadata": {
        "id": "pSb1IztsxiXz"
      },
      "source": [
        "#### Identify the pokemon with the lowest A/D Ratio."
      ]
    },
    {
      "cell_type": "code",
      "execution_count": null,
      "metadata": {
        "colab": {
          "base_uri": "https://localhost:8080/"
        },
        "id": "9-kWPpsoxiXz",
        "outputId": "ee0860e6-eb65-40c9-9fde-c4c587e77e75"
      },
      "outputs": [
        {
          "output_type": "stream",
          "name": "stdout",
          "text": [
            "#                  213\n",
            "Name           Shuckle\n",
            "Type 1             Bug\n",
            "Type 2            Rock\n",
            "Total              505\n",
            "HP                  20\n",
            "Attack              10\n",
            "Defense            230\n",
            "Sp. Atk             10\n",
            "Sp. Def            230\n",
            "Speed                5\n",
            "Generation           2\n",
            "Legendary        False\n",
            "A/D Ratio     0.043478\n",
            "Name: 230, dtype: object\n"
          ]
        }
      ],
      "source": [
        "# your code here\n",
        "\n",
        "pokemon_with_lowest_ad_ratio = pokemon.loc[pokemon['A/D Ratio'].idxmin()]\n",
        "print(pokemon_with_lowest_ad_ratio)"
      ]
    },
    {
      "cell_type": "markdown",
      "metadata": {
        "id": "6Dmg_ur_xiXz"
      },
      "source": [
        "#### Create a new column called `Combo Type` whose value combines `Type 1` and `Type 2`.\n",
        "\n",
        "Rules:\n",
        "\n",
        "* If both `Type 1` and `Type 2` have valid values, the `Combo Type` value should contain both values in the form of `<Type 1> <Type 2>`. For example, if `Type 1` value is `Grass` and `Type 2` value is `Poison`, `Combo Type` will be `Grass-Poison`.\n",
        "\n",
        "* If `Type 1` has valid value but `Type 2` is not, `Combo Type` will be the same as `Type 1`. For example, if `Type 1` is `Fire` whereas `Type 2` is `NaN`, `Combo Type` will be `Fire`."
      ]
    },
    {
      "cell_type": "code",
      "execution_count": null,
      "metadata": {
        "colab": {
          "base_uri": "https://localhost:8080/"
        },
        "id": "rWjP9thVxiXz",
        "outputId": "f596a633-d393-4f81-aec2-7268f78c9915"
      },
      "outputs": [
        {
          "output_type": "stream",
          "name": "stdout",
          "text": [
            "   #        Name Type 1  Type 2  Total  HP  Attack  Defense  Sp. Atk  Sp. Def  \\\n",
            "0  1   Bulbasaur  Grass  Poison    318  45      49       49       65       65   \n",
            "1  2     Ivysaur  Grass  Poison    405  60      62       63       80       80   \n",
            "2  3    Venusaur  Grass  Poison    525  80      82       83      100      100   \n",
            "3  3       Mega   Grass  Poison    625  80     100      123      122      120   \n",
            "4  4  Charmander   Fire     NaN    309  39      52       43       60       50   \n",
            "5  5  Charmeleon   Fire     NaN    405  58      64       58       80       65   \n",
            "6  6   Charizard   Fire  Flying    534  78      84       78      109       85   \n",
            "7  6     Mega  X   Fire  Dragon    634  78     130      111      130       85   \n",
            "8  6     Mega  Y   Fire  Flying    634  78     104       78      159      115   \n",
            "9  7    Squirtle  Water     NaN    314  44      48       65       50       64   \n",
            "\n",
            "   Speed  Generation  Legendary  A/D Ratio    Combo Type  \n",
            "0     45           1      False   1.000000  Grass-Poison  \n",
            "1     60           1      False   0.984127  Grass-Poison  \n",
            "2     80           1      False   0.987952  Grass-Poison  \n",
            "3     80           1      False   0.813008  Grass-Poison  \n",
            "4     65           1      False   1.209302          Fire  \n",
            "5     80           1      False   1.103448          Fire  \n",
            "6    100           1      False   1.076923   Fire-Flying  \n",
            "7    100           1      False   1.171171   Fire-Dragon  \n",
            "8    100           1      False   1.333333   Fire-Flying  \n",
            "9     43           1      False   0.738462         Water  \n"
          ]
        }
      ],
      "source": [
        "# your code here\n",
        "# Create the ccombo typee column\n",
        "pokemon['Combo Type'] = pokemon.apply(lambda row: row['Type 1'] if pd.isna(row['Type 2']) else f\"{row['Type 1']}-{row['Type 2']}\", axis=1)\n",
        "\n",
        "# Print the first 10 rows to check the new column\n",
        "print(pokemon.head(10))"
      ]
    },
    {
      "cell_type": "markdown",
      "metadata": {
        "id": "i-6sf1NgxiX0"
      },
      "source": [
        "#### Identify the pokemon whose `A/D Ratio` are among the top 5."
      ]
    },
    {
      "cell_type": "code",
      "execution_count": null,
      "metadata": {
        "colab": {
          "base_uri": "https://localhost:8080/"
        },
        "id": "R7HfA2vhxiX0",
        "outputId": "bc924fb0-1742-41ba-8e6f-09e94f86dba6"
      },
      "outputs": [
        {
          "output_type": "stream",
          "name": "stdout",
          "text": [
            "       #                Name   Type 1  Type 2  Total  HP  Attack  Defense  \\\n",
            "429  386  DeoxysAttack Forme  Psychic     NaN    600  50     180       20   \n",
            "347  318            Carvanha    Water    Dark    305  45      90       20   \n",
            "19    15               Mega       Bug  Poison    495  65     150       40   \n",
            "453  408            Cranidos     Rock     NaN    350  67     125       40   \n",
            "348  319            Sharpedo    Water    Dark    460  70     120       40   \n",
            "\n",
            "     Sp. Atk  Sp. Def  Speed  Generation  Legendary  A/D Ratio  Combo Type  \n",
            "429      180       20    150           3       True      9.000     Psychic  \n",
            "347       65       20     65           3      False      4.500  Water-Dark  \n",
            "19        15       80    145           1      False      3.750  Bug-Poison  \n",
            "453       30       30     58           4      False      3.125        Rock  \n",
            "348       95       40     95           3      False      3.000  Water-Dark  \n"
          ]
        }
      ],
      "source": [
        "# your code here\n",
        "# sorting the DataFrame by A/D Ratio in descending order\n",
        "top_pokemon_by_ad_ratio = pokemon.sort_values(by='A/D Ratio', ascending=False)\n",
        "\n",
        "print(top_pokemon_by_ad_ratio.head(5))"
      ]
    },
    {
      "cell_type": "markdown",
      "metadata": {
        "id": "L_0zStbKxiX0"
      },
      "source": [
        "#### For the 5 pokemon printed above, aggregate `Combo Type` and use a list to store the unique values.\n",
        "\n",
        "Your end product is a list containing the distinct `Combo Type` values of the 5 pokemon with the highest `A/D Ratio`."
      ]
    },
    {
      "cell_type": "code",
      "execution_count": null,
      "metadata": {
        "colab": {
          "base_uri": "https://localhost:8080/"
        },
        "id": "iNGw9y3DxiX0",
        "outputId": "4a0a199a-f825-4a69-bf81-42f73cc35dc5"
      },
      "outputs": [
        {
          "output_type": "stream",
          "name": "stdout",
          "text": [
            "['Psychic', 'Water-Dark', 'Bug-Poison', 'Rock']\n"
          ]
        }
      ],
      "source": [
        "# your code here\n",
        "\n",
        "# Get the top 5 Pokemon above\n",
        "top_5_pokemon = top_pokemon_by_ad_ratio.head(5)\n",
        "\n",
        "# Extract the combo types values store them in a list\n",
        "distinct_combo_types = top_5_pokemon['Combo Type'].unique().tolist()\n",
        "print(distinct_combo_types)\n"
      ]
    },
    {
      "cell_type": "markdown",
      "metadata": {
        "id": "twu2RcECxiX0"
      },
      "source": [
        "#### For each of the `Combo Type` values obtained from the previous question, calculate the mean scores of all numeric fields across all pokemon.\n",
        "\n",
        "Your output should look like below:\n",
        "\n",
        "![Aggregate](../images/aggregated-mean.png)"
      ]
    },
    {
      "cell_type": "markdown",
      "source": [
        "### I can not click/open the pic that supposed to show me how my output should look like"
      ],
      "metadata": {
        "id": "Ya_UOETF9nlM"
      }
    },
    {
      "cell_type": "code",
      "execution_count": null,
      "metadata": {
        "colab": {
          "base_uri": "https://localhost:8080/"
        },
        "id": "WBusxP5ExiX0",
        "outputId": "dcdf0c3a-412b-4337-c6f0-524e139ac145"
      },
      "outputs": [
        {
          "output_type": "stream",
          "name": "stdout",
          "text": [
            "#             348.953846\n",
            "Total         438.092308\n",
            "HP             68.015385\n",
            "Attack         75.969231\n",
            "Defense        70.892308\n",
            "Sp. Atk        79.276923\n",
            "Sp. Def        73.061538\n",
            "Speed          70.876923\n",
            "Generation      3.215385\n",
            "Legendary       0.153846\n",
            "A/D Ratio       1.309597\n",
            "dtype: float64\n"
          ]
        },
        {
          "output_type": "stream",
          "name": "stderr",
          "text": [
            "<ipython-input-28-f2cef224e263>:8: FutureWarning: The default value of numeric_only in DataFrame.mean is deprecated. In a future version, it will default to False. In addition, specifying 'numeric_only=None' is deprecated. Select only valid columns or specify the value of numeric_only to silence this warning.\n",
            "  mean_scores = filtered_pokemon.mean()\n"
          ]
        }
      ],
      "source": [
        "# your code here\n",
        "combo_types = ['Psychic', 'Water-Dark', 'Bug-Poison', 'Rock']\n",
        "\n",
        "# Filter the Pokemon DataFrame for the specified combo types\n",
        "filtered_pokemon = pokemon[pokemon['Combo Type'].isin(combo_types)]\n",
        "\n",
        "# mean\n",
        "mean_scores = filtered_pokemon.mean()\n",
        "\n",
        "print(mean_scores)"
      ]
    },
    {
      "cell_type": "code",
      "source": [
        "combo_types = ['Psychic', 'Water-Dark', 'Bug-Poison', 'Rock']\n",
        "\n",
        "# Filter the Pokemon DataFrame for the specified combo types\n",
        "filtered_pokemon = pokemon[pokemon['Combo Type'].isin(combo_types)]\n",
        "\n",
        "# the mean scores for all numeric only\n",
        "mean_scores = filtered_pokemon.mean(numeric_only=True)\n",
        "\n",
        "print(mean_scores)"
      ],
      "metadata": {
        "colab": {
          "base_uri": "https://localhost:8080/"
        },
        "id": "jynvhSKUBFbi",
        "outputId": "819033cb-09cb-4585-865c-96f2b60a7ab2"
      },
      "execution_count": null,
      "outputs": [
        {
          "output_type": "stream",
          "name": "stdout",
          "text": [
            "#             348.953846\n",
            "Total         438.092308\n",
            "HP             68.015385\n",
            "Attack         75.969231\n",
            "Defense        70.892308\n",
            "Sp. Atk        79.276923\n",
            "Sp. Def        73.061538\n",
            "Speed          70.876923\n",
            "Generation      3.215385\n",
            "Legendary       0.153846\n",
            "A/D Ratio       1.309597\n",
            "dtype: float64\n"
          ]
        }
      ]
    }
  ],
  "metadata": {
    "kernelspec": {
      "display_name": "Python 3",
      "language": "python",
      "name": "python3"
    },
    "language_info": {
      "codemirror_mode": {
        "name": "ipython",
        "version": 3
      },
      "file_extension": ".py",
      "mimetype": "text/x-python",
      "name": "python",
      "nbconvert_exporter": "python",
      "pygments_lexer": "ipython3",
      "version": "3.6.9"
    },
    "colab": {
      "provenance": [],
      "include_colab_link": true
    }
  },
  "nbformat": 4,
  "nbformat_minor": 0
}